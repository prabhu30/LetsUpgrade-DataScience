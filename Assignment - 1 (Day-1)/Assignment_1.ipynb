{
  "nbformat": 4,
  "nbformat_minor": 0,
  "metadata": {
    "colab": {
      "name": "Assignment_1.ipynb",
      "provenance": []
    },
    "kernelspec": {
      "name": "python3",
      "display_name": "Python 3"
    }
  },
  "cells": [
    {
      "cell_type": "markdown",
      "metadata": {
        "id": "Rzu8YZwmdapy"
      },
      "source": [
        "#**Assignment - 1**"
      ]
    },
    {
      "cell_type": "markdown",
      "metadata": {
        "id": "NS43TtrJdr5h"
      },
      "source": [
        "# **#### Question - 1 ###**"
      ]
    },
    {
      "cell_type": "code",
      "metadata": {
        "id": "bprhbikJdQym"
      },
      "source": [
        "qstn=\"OBANWRI\"\n",
        "a=\"RANIBOW\"\n",
        "b=\"RAINBOW\"\n",
        "c=\"BOWRANI\"\n",
        "d=\"ROBWANI\"\n",
        "ans=\"RAINBOW\""
      ],
      "execution_count": 11,
      "outputs": []
    },
    {
      "cell_type": "code",
      "metadata": {
        "id": "2Vo1K1sUeEZc",
        "outputId": "8f3935e8-2975-427f-f963-0fc0330b372a",
        "colab": {
          "base_uri": "https://localhost:8080/"
        }
      },
      "source": [
        "if ans==a:\n",
        "    print(\"Answer is 'a' : \"+a)\n",
        "elif ans==b:\n",
        "    print(\"Answer is 'b' : \"+b)\n",
        "elif ans==c:\n",
        "    print(\"Answer is 'c' : \"+c)\n",
        "elif ans==d:\n",
        "    print(\"Answer is 'd' : \"+d)"
      ],
      "execution_count": 12,
      "outputs": [
        {
          "output_type": "stream",
          "text": [
            "Answer is 'b' : RAINBOW\n"
          ],
          "name": "stdout"
        }
      ]
    },
    {
      "cell_type": "code",
      "metadata": {
        "id": "UPevVqDgeVkB"
      },
      "source": [
        ""
      ],
      "execution_count": 12,
      "outputs": []
    },
    {
      "cell_type": "code",
      "metadata": {
        "id": "KO0BeQ9Fec9i"
      },
      "source": [
        ""
      ],
      "execution_count": 12,
      "outputs": []
    },
    {
      "cell_type": "code",
      "metadata": {
        "id": "TliCHysledNG"
      },
      "source": [
        ""
      ],
      "execution_count": 12,
      "outputs": []
    },
    {
      "cell_type": "markdown",
      "metadata": {
        "id": "zmTSbiWcee9A"
      },
      "source": [
        "#**### Question - 2 ###**"
      ]
    },
    {
      "cell_type": "code",
      "metadata": {
        "id": "tvLwQZwcedwL",
        "outputId": "c91e5ed7-2ae3-4b44-a57b-6fa9ce6bc82d",
        "colab": {
          "base_uri": "https://localhost:8080/"
        }
      },
      "source": [
        "print(\"Solution 1 :\")\n",
        "print(\"LETS UPGRADE\")"
      ],
      "execution_count": 13,
      "outputs": [
        {
          "output_type": "stream",
          "text": [
            "Solution 1 :\n",
            "LETS UPGRADE\n"
          ],
          "name": "stdout"
        }
      ]
    },
    {
      "cell_type": "code",
      "metadata": {
        "id": "Nn_xBGuserVs",
        "outputId": "706f6b17-5e86-4278-8722-efab1f6103a6",
        "colab": {
          "base_uri": "https://localhost:8080/"
        }
      },
      "source": [
        "print(\"Solution 2 :\")\n",
        "print(\"Using Upper Method of Lists , 'lets upgrade'.upper() = \",'lets upgrade'.upper())"
      ],
      "execution_count": 14,
      "outputs": [
        {
          "output_type": "stream",
          "text": [
            "Solution 2 :\n",
            "Using Upper Method of Lists , 'lets upgrade'.upper() =  LETS UPGRADE\n"
          ],
          "name": "stdout"
        }
      ]
    },
    {
      "cell_type": "code",
      "metadata": {
        "id": "vfvyezFheuvd"
      },
      "source": [
        ""
      ],
      "execution_count": 14,
      "outputs": []
    },
    {
      "cell_type": "code",
      "metadata": {
        "id": "INp-VvUPewav"
      },
      "source": [
        ""
      ],
      "execution_count": 14,
      "outputs": []
    },
    {
      "cell_type": "code",
      "metadata": {
        "id": "Zguz6BJ6ewgd"
      },
      "source": [
        ""
      ],
      "execution_count": 14,
      "outputs": []
    },
    {
      "cell_type": "markdown",
      "metadata": {
        "id": "Cr9gK5p2favq"
      },
      "source": [
        "# **### Question - 3###**"
      ]
    },
    {
      "cell_type": "code",
      "metadata": {
        "id": "XuoVE7YXewdl",
        "outputId": "5815fadb-9313-4a7a-a7bf-3aa98587e249",
        "colab": {
          "base_uri": "https://localhost:8080/"
        }
      },
      "source": [
        "c = int(input())\n",
        "s = int(input())"
      ],
      "execution_count": 15,
      "outputs": [
        {
          "output_type": "stream",
          "text": [
            "20\n",
            "0\n"
          ],
          "name": "stdout"
        }
      ]
    },
    {
      "cell_type": "code",
      "metadata": {
        "id": "hko9DtmZe0po",
        "outputId": "42c41aa4-775a-4f5f-eafe-f9255c07400e",
        "colab": {
          "base_uri": "https://localhost:8080/"
        }
      },
      "source": [
        "if c < s :\n",
        "    print(\"Profit\")\n",
        "elif c > s :\n",
        "    print(\"Loss\")\n",
        "else:\n",
        "    print(\"Neither\")"
      ],
      "execution_count": 16,
      "outputs": [
        {
          "output_type": "stream",
          "text": [
            "Loss\n"
          ],
          "name": "stdout"
        }
      ]
    },
    {
      "cell_type": "code",
      "metadata": {
        "id": "YvFy2rijfSjS"
      },
      "source": [
        ""
      ],
      "execution_count": 16,
      "outputs": []
    },
    {
      "cell_type": "code",
      "metadata": {
        "id": "QXBOcV0tfUhl"
      },
      "source": [
        ""
      ],
      "execution_count": 16,
      "outputs": []
    },
    {
      "cell_type": "code",
      "metadata": {
        "id": "89LAeom0fUkq"
      },
      "source": [
        ""
      ],
      "execution_count": 16,
      "outputs": []
    },
    {
      "cell_type": "markdown",
      "metadata": {
        "id": "jgih_p1FfiHu"
      },
      "source": [
        "# **###Question - 4 ###**"
      ]
    },
    {
      "cell_type": "code",
      "metadata": {
        "id": "1dFiE9BffU8R",
        "outputId": "c4121d3d-57a1-4ec5-c7a2-864395e43405",
        "colab": {
          "base_uri": "https://localhost:8080/"
        }
      },
      "source": [
        "e = int(input())"
      ],
      "execution_count": 17,
      "outputs": [
        {
          "output_type": "stream",
          "text": [
            "72\n"
          ],
          "name": "stdout"
        }
      ]
    },
    {
      "cell_type": "code",
      "metadata": {
        "id": "4BWENgABf0K1"
      },
      "source": [
        "r = 80*e"
      ],
      "execution_count": 18,
      "outputs": []
    },
    {
      "cell_type": "code",
      "metadata": {
        "id": "OKw4CAorf2DK",
        "outputId": "05427607-a46d-44a0-ba6b-44d2a4e95b90",
        "colab": {
          "base_uri": "https://localhost:8080/"
        }
      },
      "source": [
        "print(r)3"
      ],
      "execution_count": 19,
      "outputs": [
        {
          "output_type": "stream",
          "text": [
            "5760\n"
          ],
          "name": "stdout"
        }
      ]
    },
    {
      "cell_type": "code",
      "metadata": {
        "id": "4PtjBncQgF9I"
      },
      "source": [
        ""
      ],
      "execution_count": 19,
      "outputs": []
    }
  ]
}