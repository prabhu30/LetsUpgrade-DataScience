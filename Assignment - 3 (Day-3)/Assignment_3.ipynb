{
  "nbformat": 4,
  "nbformat_minor": 0,
  "metadata": {
    "colab": {
      "name": "Assignment_3.ipynb",
      "provenance": [],
      "collapsed_sections": []
    },
    "kernelspec": {
      "name": "python3",
      "display_name": "Python 3"
    }
  },
  "cells": [
    {
      "cell_type": "markdown",
      "metadata": {
        "id": "EzsQVwmUJydf"
      },
      "source": [
        "# **Question 1**"
      ]
    },
    {
      "cell_type": "code",
      "metadata": {
        "id": "OpFEHrMnJMU5"
      },
      "source": [
        "import numpy as np"
      ],
      "execution_count": 1,
      "outputs": []
    },
    {
      "cell_type": "code",
      "metadata": {
        "id": "3EiAMtAwJmVM"
      },
      "source": [
        "a = np.arange(2,50,3)"
      ],
      "execution_count": 2,
      "outputs": []
    },
    {
      "cell_type": "code",
      "metadata": {
        "id": "qWP_VNi1JmbQ",
        "outputId": "85b4775c-1e26-4068-f297-40d12660f169",
        "colab": {
          "base_uri": "https://localhost:8080/"
        }
      },
      "source": [
        "a"
      ],
      "execution_count": 3,
      "outputs": [
        {
          "output_type": "execute_result",
          "data": {
            "text/plain": [
              "array([ 2,  5,  8, 11, 14, 17, 20, 23, 26, 29, 32, 35, 38, 41, 44, 47])"
            ]
          },
          "metadata": {
            "tags": []
          },
          "execution_count": 3
        }
      ]
    },
    {
      "cell_type": "code",
      "metadata": {
        "id": "vy8-eeE9JmhS"
      },
      "source": [
        ""
      ],
      "execution_count": null,
      "outputs": []
    },
    {
      "cell_type": "markdown",
      "metadata": {
        "id": "Ge-b0WHHJx-w"
      },
      "source": [
        "# **Question 2**"
      ]
    },
    {
      "cell_type": "code",
      "metadata": {
        "id": "L38_SoyqKKn8"
      },
      "source": [
        "a = 0\n",
        "l1 = []\n",
        "l2 = []"
      ],
      "execution_count": 7,
      "outputs": []
    },
    {
      "cell_type": "code",
      "metadata": {
        "id": "ACoBoOgiJml5",
        "outputId": "6f4b809f-6d5c-4b4d-ffe2-f0964cd7c7a4",
        "colab": {
          "base_uri": "https://localhost:8080/"
        }
      },
      "source": [
        "for i in range(0,5):\n",
        "  a = int(input(\"Enter number {} into the list 1 :\".format(i+1)))\n",
        "  l1.append(a)\n",
        "print(\"List 1 is : \",l1)"
      ],
      "execution_count": 8,
      "outputs": [
        {
          "output_type": "stream",
          "text": [
            "Enter number 1 into the list 1 :11\n",
            "Enter number 2 into the list 1 :21\n",
            "Enter number 3 into the list 1 :31\n",
            "Enter number 4 into the list 1 :41\n",
            "Enter number 5 into the list 1 :51\n",
            "List 1 is :  [11, 21, 31, 41, 51]\n"
          ],
          "name": "stdout"
        }
      ]
    },
    {
      "cell_type": "code",
      "metadata": {
        "id": "aOYvt0iLJmvO",
        "outputId": "4e93f5d4-bcf7-4d56-fe62-13b443bf2c0b",
        "colab": {
          "base_uri": "https://localhost:8080/"
        }
      },
      "source": [
        "for i in range(0,5):\n",
        "  a = int(input(\"Enter number {} into the list 2 :\".format(i+1)))\n",
        "  l2.append(a)\n",
        "print(\"List 2 is :\",l2)"
      ],
      "execution_count": 9,
      "outputs": [
        {
          "output_type": "stream",
          "text": [
            "Enter number 1 into the list 2 :61\n",
            "Enter number 2 into the list 2 :71\n",
            "Enter number 3 into the list 2 :81\n",
            "Enter number 4 into the list 2 :91\n",
            "Enter number 5 into the list 2 :101\n",
            "List 2 is : [61, 71, 81, 91, 101]\n"
          ],
          "name": "stdout"
        }
      ]
    },
    {
      "cell_type": "code",
      "metadata": {
        "id": "EKD77ydFJmyX"
      },
      "source": [
        "n1 = np.array(l1)\n",
        "n2 = np.array(l2)"
      ],
      "execution_count": 11,
      "outputs": []
    },
    {
      "cell_type": "code",
      "metadata": {
        "id": "UrZM4D39Jmsm",
        "outputId": "23653131-3e41-4b9b-91a2-a1248f73fbc8",
        "colab": {
          "base_uri": "https://localhost:8080/"
        }
      },
      "source": [
        "print(n1)\n",
        "print(n2)"
      ],
      "execution_count": 20,
      "outputs": [
        {
          "output_type": "stream",
          "text": [
            "[11 21 31 41 51] int64\n",
            "[ 61  71  81  91 101] int64\n"
          ],
          "name": "stdout"
        }
      ]
    },
    {
      "cell_type": "code",
      "metadata": {
        "id": "mJ-fJEv-JmpE"
      },
      "source": [
        "n3 = np.concatenate((n1,n2), axis=0)"
      ],
      "execution_count": 23,
      "outputs": []
    },
    {
      "cell_type": "code",
      "metadata": {
        "id": "tSvADAskJmf3",
        "outputId": "bba780fb-bff3-4681-961f-b41ce15ab04d",
        "colab": {
          "base_uri": "https://localhost:8080/"
        }
      },
      "source": [
        "n3"
      ],
      "execution_count": 24,
      "outputs": [
        {
          "output_type": "execute_result",
          "data": {
            "text/plain": [
              "array([ 11,  21,  31,  41,  51,  61,  71,  81,  91, 101])"
            ]
          },
          "metadata": {
            "tags": []
          },
          "execution_count": 24
        }
      ]
    },
    {
      "cell_type": "code",
      "metadata": {
        "id": "BjL0QXQGJmZr"
      },
      "source": [
        ""
      ],
      "execution_count": null,
      "outputs": []
    },
    {
      "cell_type": "code",
      "metadata": {
        "id": "d0XIyJUNJmTx"
      },
      "source": [
        ""
      ],
      "execution_count": null,
      "outputs": []
    },
    {
      "cell_type": "code",
      "metadata": {
        "id": "bLtBJAy3JmQo"
      },
      "source": [
        ""
      ],
      "execution_count": null,
      "outputs": []
    },
    {
      "cell_type": "markdown",
      "metadata": {
        "id": "L7walZo9L-fV"
      },
      "source": [
        "# **Question 3**"
      ]
    },
    {
      "cell_type": "code",
      "metadata": {
        "id": "HkMoPdLpJmNr",
        "outputId": "a9f7dc09-a7cd-4b85-a1c4-22427a08a707",
        "colab": {
          "base_uri": "https://localhost:8080/"
        }
      },
      "source": [
        "n3.dtype"
      ],
      "execution_count": 25,
      "outputs": [
        {
          "output_type": "execute_result",
          "data": {
            "text/plain": [
              "dtype('int64')"
            ]
          },
          "metadata": {
            "tags": []
          },
          "execution_count": 25
        }
      ]
    },
    {
      "cell_type": "code",
      "metadata": {
        "id": "5GJ-BxE0L5uf",
        "outputId": "a9e1f918-17d3-4bd8-a8ef-d9f3a2aad1d0",
        "colab": {
          "base_uri": "https://localhost:8080/"
        }
      },
      "source": [
        "n3.size"
      ],
      "execution_count": 26,
      "outputs": [
        {
          "output_type": "execute_result",
          "data": {
            "text/plain": [
              "10"
            ]
          },
          "metadata": {
            "tags": []
          },
          "execution_count": 26
        }
      ]
    },
    {
      "cell_type": "code",
      "metadata": {
        "id": "8PIhDAZZL7ap"
      },
      "source": [
        ""
      ],
      "execution_count": null,
      "outputs": []
    },
    {
      "cell_type": "code",
      "metadata": {
        "id": "nY5HDvk5L69C"
      },
      "source": [
        ""
      ],
      "execution_count": null,
      "outputs": []
    },
    {
      "cell_type": "code",
      "metadata": {
        "id": "Zzp0BFAkL8iq"
      },
      "source": [
        ""
      ],
      "execution_count": null,
      "outputs": []
    },
    {
      "cell_type": "markdown",
      "metadata": {
        "id": "5VZ6QJdfM1zG"
      },
      "source": [
        "# **Question 4**"
      ]
    },
    {
      "cell_type": "code",
      "metadata": {
        "id": "dwzzpGw4L88x"
      },
      "source": [
        "e1 = np.array([1,2,3,4,5,6,7,8])"
      ],
      "execution_count": 33,
      "outputs": []
    },
    {
      "cell_type": "code",
      "metadata": {
        "id": "Dg9vRa4-L8fa",
        "outputId": "1fc6e95e-d650-4b74-8e61-01288e8147be",
        "colab": {
          "base_uri": "https://localhost:8080/"
        }
      },
      "source": [
        "e1"
      ],
      "execution_count": 34,
      "outputs": [
        {
          "output_type": "execute_result",
          "data": {
            "text/plain": [
              "array([1, 2, 3, 4, 5, 6, 7, 8])"
            ]
          },
          "metadata": {
            "tags": []
          },
          "execution_count": 34
        }
      ]
    },
    {
      "cell_type": "code",
      "metadata": {
        "id": "Si35gA3OL66I"
      },
      "source": [
        "e1 = np.expand_dims(e1, axis=1)"
      ],
      "execution_count": 36,
      "outputs": []
    },
    {
      "cell_type": "code",
      "metadata": {
        "id": "buV_g5GqL5qF",
        "outputId": "cc73c554-96c1-4380-dbe3-03d4ca2cc5db",
        "colab": {
          "base_uri": "https://localhost:8080/"
        }
      },
      "source": [
        "e1"
      ],
      "execution_count": 37,
      "outputs": [
        {
          "output_type": "execute_result",
          "data": {
            "text/plain": [
              "array([[1],\n",
              "       [2],\n",
              "       [3],\n",
              "       [4],\n",
              "       [5],\n",
              "       [6],\n",
              "       [7],\n",
              "       [8]])"
            ]
          },
          "metadata": {
            "tags": []
          },
          "execution_count": 37
        }
      ]
    },
    {
      "cell_type": "code",
      "metadata": {
        "id": "HxxRDa7jL5ou",
        "outputId": "d6eaddbb-3ca3-448b-d363-44f775dbcd54",
        "colab": {
          "base_uri": "https://localhost:8080/"
        }
      },
      "source": [
        "e1.ndim"
      ],
      "execution_count": 38,
      "outputs": [
        {
          "output_type": "execute_result",
          "data": {
            "text/plain": [
              "2"
            ]
          },
          "metadata": {
            "tags": []
          },
          "execution_count": 38
        }
      ]
    },
    {
      "cell_type": "code",
      "metadata": {
        "id": "ekFeW9B5L5ki"
      },
      "source": [
        ""
      ],
      "execution_count": null,
      "outputs": []
    },
    {
      "cell_type": "code",
      "metadata": {
        "id": "mFKJorb-L5h8"
      },
      "source": [
        ""
      ],
      "execution_count": null,
      "outputs": []
    },
    {
      "cell_type": "code",
      "metadata": {
        "id": "poIRwDA8L5D7"
      },
      "source": [
        ""
      ],
      "execution_count": null,
      "outputs": []
    },
    {
      "cell_type": "markdown",
      "metadata": {
        "id": "wvqaWVd-NdVk"
      },
      "source": [
        "# **Question 5**"
      ]
    },
    {
      "cell_type": "code",
      "metadata": {
        "id": "-LMly4o_L5AJ"
      },
      "source": [
        "h1 = np.array([1,2,3,4,5])"
      ],
      "execution_count": 39,
      "outputs": []
    },
    {
      "cell_type": "code",
      "metadata": {
        "id": "c3KRpg54L48t"
      },
      "source": [
        "v1 = np.array([6,7,8,9,0])"
      ],
      "execution_count": 40,
      "outputs": []
    },
    {
      "cell_type": "code",
      "metadata": {
        "id": "-GAze6C8L4td",
        "outputId": "84f0aa6c-0f60-4d8b-efc6-a6e8421cccef",
        "colab": {
          "base_uri": "https://localhost:8080/"
        }
      },
      "source": [
        "np.hstack((h1,v1))"
      ],
      "execution_count": 42,
      "outputs": [
        {
          "output_type": "execute_result",
          "data": {
            "text/plain": [
              "array([1, 2, 3, 4, 5, 6, 7, 8, 9, 0])"
            ]
          },
          "metadata": {
            "tags": []
          },
          "execution_count": 42
        }
      ]
    },
    {
      "cell_type": "code",
      "metadata": {
        "id": "d6RKUMiVL4pM",
        "outputId": "cc6d42d8-9bee-4ebb-d465-68c6bb92302e",
        "colab": {
          "base_uri": "https://localhost:8080/"
        }
      },
      "source": [
        "np.vstack((h1,v1))"
      ],
      "execution_count": 43,
      "outputs": [
        {
          "output_type": "execute_result",
          "data": {
            "text/plain": [
              "array([[1, 2, 3, 4, 5],\n",
              "       [6, 7, 8, 9, 0]])"
            ]
          },
          "metadata": {
            "tags": []
          },
          "execution_count": 43
        }
      ]
    },
    {
      "cell_type": "code",
      "metadata": {
        "id": "wewv6McVL4nq"
      },
      "source": [
        ""
      ],
      "execution_count": null,
      "outputs": []
    },
    {
      "cell_type": "code",
      "metadata": {
        "id": "SeVxi-FBNhF6"
      },
      "source": [
        ""
      ],
      "execution_count": null,
      "outputs": []
    },
    {
      "cell_type": "code",
      "metadata": {
        "id": "a88YW3rRNhC-"
      },
      "source": [
        ""
      ],
      "execution_count": null,
      "outputs": []
    },
    {
      "cell_type": "markdown",
      "metadata": {
        "id": "1T7onrxqN_jX"
      },
      "source": [
        "# **Question 6**"
      ]
    },
    {
      "cell_type": "code",
      "metadata": {
        "id": "8RYR0UTpNg38"
      },
      "source": [
        "un, cn = np.unique(h1,return_counts=True)"
      ],
      "execution_count": 45,
      "outputs": []
    },
    {
      "cell_type": "code",
      "metadata": {
        "id": "DLikclyRNg0A",
        "outputId": "7b32f6ce-89a9-40b1-8509-2ae96b1577f6",
        "colab": {
          "base_uri": "https://localhost:8080/"
        }
      },
      "source": [
        "print(\"Unique elements are :\",un)\n",
        "print(\"Counts of unique elements are :\",cn)"
      ],
      "execution_count": 47,
      "outputs": [
        {
          "output_type": "stream",
          "text": [
            "Unique elements are : [1 2 3 4 5]\n",
            "Counts of unique elements are : [1 1 1 1 1]\n"
          ],
          "name": "stdout"
        }
      ]
    },
    {
      "cell_type": "code",
      "metadata": {
        "id": "PN6XoJZONggt"
      },
      "source": [
        ""
      ],
      "execution_count": null,
      "outputs": []
    },
    {
      "cell_type": "code",
      "metadata": {
        "id": "5L1JJUFRNgeZ"
      },
      "source": [
        ""
      ],
      "execution_count": null,
      "outputs": []
    },
    {
      "cell_type": "code",
      "metadata": {
        "id": "pPHrmQuxNgbn"
      },
      "source": [
        ""
      ],
      "execution_count": null,
      "outputs": []
    },
    {
      "cell_type": "code",
      "metadata": {
        "id": "ZzKndu5gNgYy"
      },
      "source": [
        ""
      ],
      "execution_count": null,
      "outputs": []
    }
  ]
}