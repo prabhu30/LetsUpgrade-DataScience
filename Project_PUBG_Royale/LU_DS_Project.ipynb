{
  "nbformat": 4,
  "nbformat_minor": 0,
  "metadata": {
    "colab": {
      "name": "LU_DS_Project.ipynb",
      "provenance": [],
      "collapsed_sections": []
    },
    "kernelspec": {
      "name": "python3",
      "display_name": "Python 3"
    }
  },
  "cells": [
    {
      "cell_type": "markdown",
      "metadata": {
        "id": "hlvo01d2FycY"
      },
      "source": [
        "# **PUBG Analysis using DATA SCIENCE**"
      ]
    },
    {
      "cell_type": "markdown",
      "metadata": {
        "id": "pM7-DDIGGLQs"
      },
      "source": [
        "### **Explanation :**<br>\n",
        "* Battle Royale-style video games have taken the world by storm. 100 players are dropped onto an island empty-handed and must explore, scavenge, and eliminate other players until only one is left standing, all while the play zone continues to shrink.\n",
        "<br><br>\n",
        "* PlayerUnknown's BattleGrounds (PUBG) has enjoyed massive popularity. With over 50 million copies sold, it's the fifth best selling game of all time, and has millions of active monthly players.<br>\n",
        "* The team at PUBG has made official game data available for the public to explore and scavenge outside of \"The Blue Circle.\" This competition is not an official or affiliated PUBG site - Kaggle collected data made\n",
        "possible through the PUBG Developer API.<br>\n",
        "* You are given over 65,000 games' worth of anonymized player data, split into training and testing sets, and asked to predict final placement from final in-game stats and initial player ratings.<br>\n",
        "* What's the best strategy to win in PUBG? Should you sit in one spot and hide your way into victory, or do you need to be the top shot? Let's let the data do the talking!"
      ]
    },
    {
      "cell_type": "markdown",
      "metadata": {
        "id": "FCzEuqVyHNwC"
      },
      "source": [
        "## **Dataset's columns description :**<br>\n",
        "* groupId - Integer ID to identify a group within a match. If the same group of players plays in different matches, they will have a different groupId each time.<br>\n",
        "* matchId - Integer ID to identify match. There are no matches that are in both the training and testing set.<br>\n",
        "* assists - Number of enemy players this player damaged that were killed by teammates.\n",
        "* boosts - Number of boost items used.<br>\n",
        "* damageDealt - Total damage dealt. Note: Self inflicted damage is subtracted.<br>\n",
        "* DBNOs - Number of enemy players knocked.<br>\n",
        "* headshotKills - Number of enemy players killed with headshots.<br>\n",
        "* heals - Number of healing items used.<br>\n",
        "* killPlace - Ranking in match of number of enemy players killed.<br>\n",
        "* killPoints - Kills-based external ranking of player. (Think of this as an Elo ranking where only kills matter.)<br>\n",
        "* kills - Number of enemy players killed.<br>\n",
        "* killStreaks - Max number of enemy players killed in a short amount of time.<br>\n",
        "* longestKill - Longest distance between player and player killed at time of death. This may be misleading, as downing a - player and driving away may lead to a large longestKill stat.<br>\n",
        "* maxPlace - Worst placement we have data for in the match. This may not match with numGroups, as sometimes the data skips over placements.<br>\n",
        "* numGroups - Number of groups we have data for in the match.<br>\n",
        "* revives - Number of times this player revived teammates.<br>\n",
        "* rideDistance - Total distance traveled in vehicles measured in meters.\n",
        "* roadKills - Number of kills while in a vehicle.<br>\n",
        "* swimDistance - Total distance traveled by swimming measured in meters.<br>\n",
        "* teamKills - Number of times this player killed a teammate.<br>\n",
        "* vehicleDestroys - Number of vehicles destroyed.<br>\n",
        "* walkDistance - Total distance traveled on foot measured in meters.<br>\n",
        "* weaponsAcquired - Number of weapons picked up.<br>\n",
        "* winPoints - Win-based external ranking of player. (Think of this as an Elo ranking where only winning matters.)<br>\n",
        "* winPlacePerc - The target of prediction. This is a percentile winning placement, where 1 corresponds to 1st place, and 0 corresponds to last place in the match. It is calculated off of maxPlace, not numGroups,\n",
        "so it is possible to have missing chunks in a match."
      ]
    },
    {
      "cell_type": "code",
      "metadata": {
        "id": "jZ0kwc-MRt5G"
      },
      "source": [
        "import pandas as pd\n",
        "import numpy as np\n",
        "import seaborn as sns\n",
        "import matplotlib.pyplot as plt"
      ],
      "execution_count": 1,
      "outputs": []
    },
    {
      "cell_type": "code",
      "metadata": {
        "id": "3aSyL77GPjsH"
      },
      "source": [
        "df = pd.read_csv('pubg - Dr. Darshan Ingle.csv')"
      ],
      "execution_count": 2,
      "outputs": []
    },
    {
      "cell_type": "code",
      "metadata": {
        "id": "KZAVKzTpPuvD",
        "outputId": "29fdd31e-85ac-4a5f-c56f-55e3d3c20917",
        "colab": {
          "base_uri": "https://localhost:8080/",
          "height": 444
        }
      },
      "source": [
        "df"
      ],
      "execution_count": 3,
      "outputs": [
        {
          "output_type": "execute_result",
          "data": {
            "text/html": [
              "<div>\n",
              "<style scoped>\n",
              "    .dataframe tbody tr th:only-of-type {\n",
              "        vertical-align: middle;\n",
              "    }\n",
              "\n",
              "    .dataframe tbody tr th {\n",
              "        vertical-align: top;\n",
              "    }\n",
              "\n",
              "    .dataframe thead th {\n",
              "        text-align: right;\n",
              "    }\n",
              "</style>\n",
              "<table border=\"1\" class=\"dataframe\">\n",
              "  <thead>\n",
              "    <tr style=\"text-align: right;\">\n",
              "      <th></th>\n",
              "      <th>Id</th>\n",
              "      <th>groupId</th>\n",
              "      <th>matchId</th>\n",
              "      <th>assists</th>\n",
              "      <th>boosts</th>\n",
              "      <th>damageDealt</th>\n",
              "      <th>DBNOs</th>\n",
              "      <th>headshotKills</th>\n",
              "      <th>heals</th>\n",
              "      <th>killPlace</th>\n",
              "      <th>killPoints</th>\n",
              "      <th>kills</th>\n",
              "      <th>killStreaks</th>\n",
              "      <th>longestKill</th>\n",
              "      <th>matchDuration</th>\n",
              "      <th>matchType</th>\n",
              "      <th>maxPlace</th>\n",
              "      <th>numGroups</th>\n",
              "      <th>rankPoints</th>\n",
              "      <th>revives</th>\n",
              "      <th>rideDistance</th>\n",
              "      <th>roadKills</th>\n",
              "      <th>swimDistance</th>\n",
              "      <th>teamKills</th>\n",
              "      <th>vehicleDestroys</th>\n",
              "      <th>walkDistance</th>\n",
              "      <th>weaponsAcquired</th>\n",
              "      <th>winPoints</th>\n",
              "      <th>winPlacePerc</th>\n",
              "    </tr>\n",
              "  </thead>\n",
              "  <tbody>\n",
              "    <tr>\n",
              "      <th>0</th>\n",
              "      <td>2f262dd9795e60</td>\n",
              "      <td>78437bcd91d40e</td>\n",
              "      <td>d5db3a49eb2955</td>\n",
              "      <td>0</td>\n",
              "      <td>0</td>\n",
              "      <td>0.0</td>\n",
              "      <td>0</td>\n",
              "      <td>0</td>\n",
              "      <td>0</td>\n",
              "      <td>92</td>\n",
              "      <td>1126</td>\n",
              "      <td>0</td>\n",
              "      <td>0</td>\n",
              "      <td>0.000</td>\n",
              "      <td>1376</td>\n",
              "      <td>squad-fpp</td>\n",
              "      <td>29</td>\n",
              "      <td>28</td>\n",
              "      <td>-1</td>\n",
              "      <td>0</td>\n",
              "      <td>0.0</td>\n",
              "      <td>0</td>\n",
              "      <td>0.0</td>\n",
              "      <td>0</td>\n",
              "      <td>0</td>\n",
              "      <td>0.00</td>\n",
              "      <td>0</td>\n",
              "      <td>1470</td>\n",
              "      <td>0.0000</td>\n",
              "    </tr>\n",
              "    <tr>\n",
              "      <th>1</th>\n",
              "      <td>a32847cf5bf34b</td>\n",
              "      <td>85b7ce5a12e10b</td>\n",
              "      <td>65223f05c7fdb4</td>\n",
              "      <td>0</td>\n",
              "      <td>0</td>\n",
              "      <td>163.2</td>\n",
              "      <td>1</td>\n",
              "      <td>1</td>\n",
              "      <td>0</td>\n",
              "      <td>42</td>\n",
              "      <td>1309</td>\n",
              "      <td>1</td>\n",
              "      <td>1</td>\n",
              "      <td>6.589</td>\n",
              "      <td>1370</td>\n",
              "      <td>squad-fpp</td>\n",
              "      <td>28</td>\n",
              "      <td>28</td>\n",
              "      <td>-1</td>\n",
              "      <td>0</td>\n",
              "      <td>0.0</td>\n",
              "      <td>0</td>\n",
              "      <td>0.0</td>\n",
              "      <td>0</td>\n",
              "      <td>0</td>\n",
              "      <td>132.70</td>\n",
              "      <td>2</td>\n",
              "      <td>1531</td>\n",
              "      <td>0.2222</td>\n",
              "    </tr>\n",
              "    <tr>\n",
              "      <th>2</th>\n",
              "      <td>1b1900a9990396</td>\n",
              "      <td>edf80d6523380a</td>\n",
              "      <td>1cadec4534f30a</td>\n",
              "      <td>0</td>\n",
              "      <td>3</td>\n",
              "      <td>278.7</td>\n",
              "      <td>2</td>\n",
              "      <td>1</td>\n",
              "      <td>8</td>\n",
              "      <td>16</td>\n",
              "      <td>0</td>\n",
              "      <td>2</td>\n",
              "      <td>1</td>\n",
              "      <td>23.070</td>\n",
              "      <td>1381</td>\n",
              "      <td>squad-fpp</td>\n",
              "      <td>29</td>\n",
              "      <td>27</td>\n",
              "      <td>1479</td>\n",
              "      <td>3</td>\n",
              "      <td>0.0</td>\n",
              "      <td>0</td>\n",
              "      <td>0.0</td>\n",
              "      <td>0</td>\n",
              "      <td>0</td>\n",
              "      <td>3591.00</td>\n",
              "      <td>10</td>\n",
              "      <td>0</td>\n",
              "      <td>0.8571</td>\n",
              "    </tr>\n",
              "    <tr>\n",
              "      <th>3</th>\n",
              "      <td>f589dd03b60bf2</td>\n",
              "      <td>804ab5e5585558</td>\n",
              "      <td>c4a5676dc91604</td>\n",
              "      <td>0</td>\n",
              "      <td>0</td>\n",
              "      <td>191.9</td>\n",
              "      <td>1</td>\n",
              "      <td>0</td>\n",
              "      <td>0</td>\n",
              "      <td>31</td>\n",
              "      <td>0</td>\n",
              "      <td>1</td>\n",
              "      <td>1</td>\n",
              "      <td>24.890</td>\n",
              "      <td>1708</td>\n",
              "      <td>squad</td>\n",
              "      <td>27</td>\n",
              "      <td>25</td>\n",
              "      <td>1500</td>\n",
              "      <td>0</td>\n",
              "      <td>0.0</td>\n",
              "      <td>0</td>\n",
              "      <td>0.0</td>\n",
              "      <td>0</td>\n",
              "      <td>0</td>\n",
              "      <td>332.70</td>\n",
              "      <td>3</td>\n",
              "      <td>0</td>\n",
              "      <td>0.3462</td>\n",
              "    </tr>\n",
              "    <tr>\n",
              "      <th>4</th>\n",
              "      <td>c23c4cc5b78b35</td>\n",
              "      <td>b3e2cd169ed920</td>\n",
              "      <td>cd595700a01bfa</td>\n",
              "      <td>0</td>\n",
              "      <td>0</td>\n",
              "      <td>100.0</td>\n",
              "      <td>1</td>\n",
              "      <td>0</td>\n",
              "      <td>0</td>\n",
              "      <td>87</td>\n",
              "      <td>1332</td>\n",
              "      <td>0</td>\n",
              "      <td>0</td>\n",
              "      <td>0.000</td>\n",
              "      <td>1807</td>\n",
              "      <td>squad-fpp</td>\n",
              "      <td>30</td>\n",
              "      <td>30</td>\n",
              "      <td>-1</td>\n",
              "      <td>0</td>\n",
              "      <td>0.0</td>\n",
              "      <td>0</td>\n",
              "      <td>0.0</td>\n",
              "      <td>0</td>\n",
              "      <td>0</td>\n",
              "      <td>252.70</td>\n",
              "      <td>3</td>\n",
              "      <td>1557</td>\n",
              "      <td>0.0690</td>\n",
              "    </tr>\n",
              "    <tr>\n",
              "      <th>...</th>\n",
              "      <td>...</td>\n",
              "      <td>...</td>\n",
              "      <td>...</td>\n",
              "      <td>...</td>\n",
              "      <td>...</td>\n",
              "      <td>...</td>\n",
              "      <td>...</td>\n",
              "      <td>...</td>\n",
              "      <td>...</td>\n",
              "      <td>...</td>\n",
              "      <td>...</td>\n",
              "      <td>...</td>\n",
              "      <td>...</td>\n",
              "      <td>...</td>\n",
              "      <td>...</td>\n",
              "      <td>...</td>\n",
              "      <td>...</td>\n",
              "      <td>...</td>\n",
              "      <td>...</td>\n",
              "      <td>...</td>\n",
              "      <td>...</td>\n",
              "      <td>...</td>\n",
              "      <td>...</td>\n",
              "      <td>...</td>\n",
              "      <td>...</td>\n",
              "      <td>...</td>\n",
              "      <td>...</td>\n",
              "      <td>...</td>\n",
              "      <td>...</td>\n",
              "    </tr>\n",
              "    <tr>\n",
              "      <th>9995</th>\n",
              "      <td>ef4f474acd8e85</td>\n",
              "      <td>2eca2a8391f75d</td>\n",
              "      <td>492ecdfae90b46</td>\n",
              "      <td>0</td>\n",
              "      <td>3</td>\n",
              "      <td>204.5</td>\n",
              "      <td>1</td>\n",
              "      <td>0</td>\n",
              "      <td>0</td>\n",
              "      <td>17</td>\n",
              "      <td>1033</td>\n",
              "      <td>2</td>\n",
              "      <td>1</td>\n",
              "      <td>13.270</td>\n",
              "      <td>1288</td>\n",
              "      <td>squad-fpp</td>\n",
              "      <td>31</td>\n",
              "      <td>30</td>\n",
              "      <td>-1</td>\n",
              "      <td>3</td>\n",
              "      <td>0.0</td>\n",
              "      <td>0</td>\n",
              "      <td>0.0</td>\n",
              "      <td>0</td>\n",
              "      <td>0</td>\n",
              "      <td>1648.00</td>\n",
              "      <td>4</td>\n",
              "      <td>1471</td>\n",
              "      <td>0.8333</td>\n",
              "    </tr>\n",
              "    <tr>\n",
              "      <th>9996</th>\n",
              "      <td>cf0bf82fb4d80e</td>\n",
              "      <td>2eaf2765f93adb</td>\n",
              "      <td>14bffd71e96320</td>\n",
              "      <td>0</td>\n",
              "      <td>0</td>\n",
              "      <td>0.0</td>\n",
              "      <td>0</td>\n",
              "      <td>0</td>\n",
              "      <td>0</td>\n",
              "      <td>49</td>\n",
              "      <td>1000</td>\n",
              "      <td>0</td>\n",
              "      <td>0</td>\n",
              "      <td>0.000</td>\n",
              "      <td>1906</td>\n",
              "      <td>duo-fpp</td>\n",
              "      <td>47</td>\n",
              "      <td>44</td>\n",
              "      <td>-1</td>\n",
              "      <td>0</td>\n",
              "      <td>0.0</td>\n",
              "      <td>0</td>\n",
              "      <td>0.0</td>\n",
              "      <td>0</td>\n",
              "      <td>0</td>\n",
              "      <td>897.10</td>\n",
              "      <td>6</td>\n",
              "      <td>1500</td>\n",
              "      <td>0.7174</td>\n",
              "    </tr>\n",
              "    <tr>\n",
              "      <th>9997</th>\n",
              "      <td>a0a31a0b1dcbe1</td>\n",
              "      <td>8d50c64ccc5071</td>\n",
              "      <td>147e4bbb62e3bb</td>\n",
              "      <td>0</td>\n",
              "      <td>0</td>\n",
              "      <td>0.0</td>\n",
              "      <td>0</td>\n",
              "      <td>0</td>\n",
              "      <td>0</td>\n",
              "      <td>83</td>\n",
              "      <td>1334</td>\n",
              "      <td>0</td>\n",
              "      <td>0</td>\n",
              "      <td>0.000</td>\n",
              "      <td>1344</td>\n",
              "      <td>duo-fpp</td>\n",
              "      <td>49</td>\n",
              "      <td>49</td>\n",
              "      <td>-1</td>\n",
              "      <td>0</td>\n",
              "      <td>0.0</td>\n",
              "      <td>0</td>\n",
              "      <td>0.0</td>\n",
              "      <td>0</td>\n",
              "      <td>0</td>\n",
              "      <td>188.20</td>\n",
              "      <td>2</td>\n",
              "      <td>1434</td>\n",
              "      <td>0.2083</td>\n",
              "    </tr>\n",
              "    <tr>\n",
              "      <th>9998</th>\n",
              "      <td>f6874657399d69</td>\n",
              "      <td>d31843d7e62ccb</td>\n",
              "      <td>662567dcf280f5</td>\n",
              "      <td>0</td>\n",
              "      <td>0</td>\n",
              "      <td>0.0</td>\n",
              "      <td>0</td>\n",
              "      <td>0</td>\n",
              "      <td>0</td>\n",
              "      <td>82</td>\n",
              "      <td>1335</td>\n",
              "      <td>0</td>\n",
              "      <td>0</td>\n",
              "      <td>0.000</td>\n",
              "      <td>1355</td>\n",
              "      <td>duo-fpp</td>\n",
              "      <td>50</td>\n",
              "      <td>50</td>\n",
              "      <td>-1</td>\n",
              "      <td>0</td>\n",
              "      <td>0.0</td>\n",
              "      <td>0</td>\n",
              "      <td>0.0</td>\n",
              "      <td>0</td>\n",
              "      <td>0</td>\n",
              "      <td>108.10</td>\n",
              "      <td>5</td>\n",
              "      <td>1534</td>\n",
              "      <td>0.2449</td>\n",
              "    </tr>\n",
              "    <tr>\n",
              "      <th>9999</th>\n",
              "      <td>90359b0b8f8b0d</td>\n",
              "      <td>61d5b1bb8da43f</td>\n",
              "      <td>258bfa48d88014</td>\n",
              "      <td>0</td>\n",
              "      <td>0</td>\n",
              "      <td>0.0</td>\n",
              "      <td>0</td>\n",
              "      <td>0</td>\n",
              "      <td>0</td>\n",
              "      <td>78</td>\n",
              "      <td>0</td>\n",
              "      <td>0</td>\n",
              "      <td>0</td>\n",
              "      <td>0.000</td>\n",
              "      <td>1416</td>\n",
              "      <td>solo</td>\n",
              "      <td>97</td>\n",
              "      <td>93</td>\n",
              "      <td>1511</td>\n",
              "      <td>0</td>\n",
              "      <td>0.0</td>\n",
              "      <td>0</td>\n",
              "      <td>0.0</td>\n",
              "      <td>0</td>\n",
              "      <td>0</td>\n",
              "      <td>53.36</td>\n",
              "      <td>1</td>\n",
              "      <td>0</td>\n",
              "      <td>0.1875</td>\n",
              "    </tr>\n",
              "  </tbody>\n",
              "</table>\n",
              "<p>10000 rows × 29 columns</p>\n",
              "</div>"
            ],
            "text/plain": [
              "                  Id         groupId  ... winPoints  winPlacePerc\n",
              "0     2f262dd9795e60  78437bcd91d40e  ...      1470        0.0000\n",
              "1     a32847cf5bf34b  85b7ce5a12e10b  ...      1531        0.2222\n",
              "2     1b1900a9990396  edf80d6523380a  ...         0        0.8571\n",
              "3     f589dd03b60bf2  804ab5e5585558  ...         0        0.3462\n",
              "4     c23c4cc5b78b35  b3e2cd169ed920  ...      1557        0.0690\n",
              "...              ...             ...  ...       ...           ...\n",
              "9995  ef4f474acd8e85  2eca2a8391f75d  ...      1471        0.8333\n",
              "9996  cf0bf82fb4d80e  2eaf2765f93adb  ...      1500        0.7174\n",
              "9997  a0a31a0b1dcbe1  8d50c64ccc5071  ...      1434        0.2083\n",
              "9998  f6874657399d69  d31843d7e62ccb  ...      1534        0.2449\n",
              "9999  90359b0b8f8b0d  61d5b1bb8da43f  ...         0        0.1875\n",
              "\n",
              "[10000 rows x 29 columns]"
            ]
          },
          "metadata": {
            "tags": []
          },
          "execution_count": 3
        }
      ]
    },
    {
      "cell_type": "markdown",
      "metadata": {
        "id": "N_yYyhOTtvdX"
      },
      "source": [
        "### **Check the datatype of all the columns**"
      ]
    },
    {
      "cell_type": "code",
      "metadata": {
        "id": "iExUtFpsPvlk",
        "outputId": "d83b4150-6169-48d7-82dd-86f416bb6ae6",
        "colab": {
          "base_uri": "https://localhost:8080/"
        }
      },
      "source": [
        "df.dtypes"
      ],
      "execution_count": 4,
      "outputs": [
        {
          "output_type": "execute_result",
          "data": {
            "text/plain": [
              "Id                  object\n",
              "groupId             object\n",
              "matchId             object\n",
              "assists              int64\n",
              "boosts               int64\n",
              "damageDealt        float64\n",
              "DBNOs                int64\n",
              "headshotKills        int64\n",
              "heals                int64\n",
              "killPlace            int64\n",
              "killPoints           int64\n",
              "kills                int64\n",
              "killStreaks          int64\n",
              "longestKill        float64\n",
              "matchDuration        int64\n",
              "matchType           object\n",
              "maxPlace             int64\n",
              "numGroups            int64\n",
              "rankPoints           int64\n",
              "revives              int64\n",
              "rideDistance       float64\n",
              "roadKills            int64\n",
              "swimDistance       float64\n",
              "teamKills            int64\n",
              "vehicleDestroys      int64\n",
              "walkDistance       float64\n",
              "weaponsAcquired      int64\n",
              "winPoints            int64\n",
              "winPlacePerc       float64\n",
              "dtype: object"
            ]
          },
          "metadata": {
            "tags": []
          },
          "execution_count": 4
        }
      ]
    },
    {
      "cell_type": "markdown",
      "metadata": {
        "id": "7F_6oBsRt1Kg"
      },
      "source": [
        "### **Summary of all numerical columns**"
      ]
    },
    {
      "cell_type": "code",
      "metadata": {
        "id": "DGuN_9tEnJuH",
        "outputId": "a6d962a4-861e-452d-9b81-1fa52bc250c3",
        "colab": {
          "base_uri": "https://localhost:8080/",
          "height": 320
        }
      },
      "source": [
        "df.describe()"
      ],
      "execution_count": 5,
      "outputs": [
        {
          "output_type": "execute_result",
          "data": {
            "text/html": [
              "<div>\n",
              "<style scoped>\n",
              "    .dataframe tbody tr th:only-of-type {\n",
              "        vertical-align: middle;\n",
              "    }\n",
              "\n",
              "    .dataframe tbody tr th {\n",
              "        vertical-align: top;\n",
              "    }\n",
              "\n",
              "    .dataframe thead th {\n",
              "        text-align: right;\n",
              "    }\n",
              "</style>\n",
              "<table border=\"1\" class=\"dataframe\">\n",
              "  <thead>\n",
              "    <tr style=\"text-align: right;\">\n",
              "      <th></th>\n",
              "      <th>assists</th>\n",
              "      <th>boosts</th>\n",
              "      <th>damageDealt</th>\n",
              "      <th>DBNOs</th>\n",
              "      <th>headshotKills</th>\n",
              "      <th>heals</th>\n",
              "      <th>killPlace</th>\n",
              "      <th>killPoints</th>\n",
              "      <th>kills</th>\n",
              "      <th>killStreaks</th>\n",
              "      <th>longestKill</th>\n",
              "      <th>matchDuration</th>\n",
              "      <th>maxPlace</th>\n",
              "      <th>numGroups</th>\n",
              "      <th>rankPoints</th>\n",
              "      <th>revives</th>\n",
              "      <th>rideDistance</th>\n",
              "      <th>roadKills</th>\n",
              "      <th>swimDistance</th>\n",
              "      <th>teamKills</th>\n",
              "      <th>vehicleDestroys</th>\n",
              "      <th>walkDistance</th>\n",
              "      <th>weaponsAcquired</th>\n",
              "      <th>winPoints</th>\n",
              "      <th>winPlacePerc</th>\n",
              "    </tr>\n",
              "  </thead>\n",
              "  <tbody>\n",
              "    <tr>\n",
              "      <th>count</th>\n",
              "      <td>10000.000000</td>\n",
              "      <td>10000.000000</td>\n",
              "      <td>10000.000000</td>\n",
              "      <td>10000.00000</td>\n",
              "      <td>10000.000000</td>\n",
              "      <td>10000.000000</td>\n",
              "      <td>10000.000000</td>\n",
              "      <td>10000.000000</td>\n",
              "      <td>10000.000000</td>\n",
              "      <td>10000.000000</td>\n",
              "      <td>10000.000000</td>\n",
              "      <td>10000.000000</td>\n",
              "      <td>10000.000000</td>\n",
              "      <td>10000.000000</td>\n",
              "      <td>10000.000000</td>\n",
              "      <td>10000.000000</td>\n",
              "      <td>10000.000000</td>\n",
              "      <td>10000.000000</td>\n",
              "      <td>10000.000000</td>\n",
              "      <td>10000.000000</td>\n",
              "      <td>10000.000000</td>\n",
              "      <td>10000.000000</td>\n",
              "      <td>10000.00000</td>\n",
              "      <td>10000.0000</td>\n",
              "      <td>10000.000000</td>\n",
              "    </tr>\n",
              "    <tr>\n",
              "      <th>mean</th>\n",
              "      <td>0.234600</td>\n",
              "      <td>1.088500</td>\n",
              "      <td>129.211264</td>\n",
              "      <td>0.64400</td>\n",
              "      <td>0.221700</td>\n",
              "      <td>1.354000</td>\n",
              "      <td>47.663100</td>\n",
              "      <td>506.970200</td>\n",
              "      <td>0.913400</td>\n",
              "      <td>0.543800</td>\n",
              "      <td>23.272333</td>\n",
              "      <td>1575.398000</td>\n",
              "      <td>44.655500</td>\n",
              "      <td>43.151300</td>\n",
              "      <td>889.699600</td>\n",
              "      <td>0.160200</td>\n",
              "      <td>600.693584</td>\n",
              "      <td>0.004200</td>\n",
              "      <td>4.385917</td>\n",
              "      <td>0.024400</td>\n",
              "      <td>0.007700</td>\n",
              "      <td>1130.008410</td>\n",
              "      <td>3.63590</td>\n",
              "      <td>609.3440</td>\n",
              "      <td>0.469926</td>\n",
              "    </tr>\n",
              "    <tr>\n",
              "      <th>std</th>\n",
              "      <td>0.575149</td>\n",
              "      <td>1.703279</td>\n",
              "      <td>167.193945</td>\n",
              "      <td>1.09562</td>\n",
              "      <td>0.577046</td>\n",
              "      <td>2.629102</td>\n",
              "      <td>27.424146</td>\n",
              "      <td>627.297959</td>\n",
              "      <td>1.524117</td>\n",
              "      <td>0.701948</td>\n",
              "      <td>50.536262</td>\n",
              "      <td>258.963515</td>\n",
              "      <td>23.800859</td>\n",
              "      <td>23.272567</td>\n",
              "      <td>738.535034</td>\n",
              "      <td>0.454045</td>\n",
              "      <td>1524.915601</td>\n",
              "      <td>0.074719</td>\n",
              "      <td>30.889620</td>\n",
              "      <td>0.171486</td>\n",
              "      <td>0.089674</td>\n",
              "      <td>1168.597983</td>\n",
              "      <td>2.42209</td>\n",
              "      <td>739.7924</td>\n",
              "      <td>0.304508</td>\n",
              "    </tr>\n",
              "    <tr>\n",
              "      <th>min</th>\n",
              "      <td>0.000000</td>\n",
              "      <td>0.000000</td>\n",
              "      <td>0.000000</td>\n",
              "      <td>0.00000</td>\n",
              "      <td>0.000000</td>\n",
              "      <td>0.000000</td>\n",
              "      <td>1.000000</td>\n",
              "      <td>0.000000</td>\n",
              "      <td>0.000000</td>\n",
              "      <td>0.000000</td>\n",
              "      <td>0.000000</td>\n",
              "      <td>464.000000</td>\n",
              "      <td>2.000000</td>\n",
              "      <td>2.000000</td>\n",
              "      <td>-1.000000</td>\n",
              "      <td>0.000000</td>\n",
              "      <td>0.000000</td>\n",
              "      <td>0.000000</td>\n",
              "      <td>0.000000</td>\n",
              "      <td>0.000000</td>\n",
              "      <td>0.000000</td>\n",
              "      <td>0.000000</td>\n",
              "      <td>0.00000</td>\n",
              "      <td>0.0000</td>\n",
              "      <td>0.000000</td>\n",
              "    </tr>\n",
              "    <tr>\n",
              "      <th>25%</th>\n",
              "      <td>0.000000</td>\n",
              "      <td>0.000000</td>\n",
              "      <td>0.000000</td>\n",
              "      <td>0.00000</td>\n",
              "      <td>0.000000</td>\n",
              "      <td>0.000000</td>\n",
              "      <td>24.000000</td>\n",
              "      <td>0.000000</td>\n",
              "      <td>0.000000</td>\n",
              "      <td>0.000000</td>\n",
              "      <td>0.000000</td>\n",
              "      <td>1366.000000</td>\n",
              "      <td>28.000000</td>\n",
              "      <td>27.000000</td>\n",
              "      <td>-1.000000</td>\n",
              "      <td>0.000000</td>\n",
              "      <td>0.000000</td>\n",
              "      <td>0.000000</td>\n",
              "      <td>0.000000</td>\n",
              "      <td>0.000000</td>\n",
              "      <td>0.000000</td>\n",
              "      <td>151.575000</td>\n",
              "      <td>2.00000</td>\n",
              "      <td>0.0000</td>\n",
              "      <td>0.200000</td>\n",
              "    </tr>\n",
              "    <tr>\n",
              "      <th>50%</th>\n",
              "      <td>0.000000</td>\n",
              "      <td>0.000000</td>\n",
              "      <td>83.805000</td>\n",
              "      <td>0.00000</td>\n",
              "      <td>0.000000</td>\n",
              "      <td>0.000000</td>\n",
              "      <td>48.000000</td>\n",
              "      <td>0.000000</td>\n",
              "      <td>0.000000</td>\n",
              "      <td>0.000000</td>\n",
              "      <td>0.000000</td>\n",
              "      <td>1431.500000</td>\n",
              "      <td>30.000000</td>\n",
              "      <td>30.000000</td>\n",
              "      <td>1444.000000</td>\n",
              "      <td>0.000000</td>\n",
              "      <td>0.000000</td>\n",
              "      <td>0.000000</td>\n",
              "      <td>0.000000</td>\n",
              "      <td>0.000000</td>\n",
              "      <td>0.000000</td>\n",
              "      <td>650.350000</td>\n",
              "      <td>3.00000</td>\n",
              "      <td>0.0000</td>\n",
              "      <td>0.458300</td>\n",
              "    </tr>\n",
              "    <tr>\n",
              "      <th>75%</th>\n",
              "      <td>0.000000</td>\n",
              "      <td>2.000000</td>\n",
              "      <td>185.325000</td>\n",
              "      <td>1.00000</td>\n",
              "      <td>0.000000</td>\n",
              "      <td>2.000000</td>\n",
              "      <td>71.000000</td>\n",
              "      <td>1169.000000</td>\n",
              "      <td>1.000000</td>\n",
              "      <td>1.000000</td>\n",
              "      <td>22.345000</td>\n",
              "      <td>1849.250000</td>\n",
              "      <td>49.000000</td>\n",
              "      <td>47.000000</td>\n",
              "      <td>1500.000000</td>\n",
              "      <td>0.000000</td>\n",
              "      <td>0.000575</td>\n",
              "      <td>0.000000</td>\n",
              "      <td>0.000000</td>\n",
              "      <td>0.000000</td>\n",
              "      <td>0.000000</td>\n",
              "      <td>1923.250000</td>\n",
              "      <td>5.00000</td>\n",
              "      <td>1495.0000</td>\n",
              "      <td>0.735100</td>\n",
              "    </tr>\n",
              "    <tr>\n",
              "      <th>max</th>\n",
              "      <td>7.000000</td>\n",
              "      <td>18.000000</td>\n",
              "      <td>3469.000000</td>\n",
              "      <td>11.00000</td>\n",
              "      <td>14.000000</td>\n",
              "      <td>31.000000</td>\n",
              "      <td>100.000000</td>\n",
              "      <td>1926.000000</td>\n",
              "      <td>35.000000</td>\n",
              "      <td>4.000000</td>\n",
              "      <td>538.600000</td>\n",
              "      <td>2202.000000</td>\n",
              "      <td>100.000000</td>\n",
              "      <td>100.000000</td>\n",
              "      <td>2835.000000</td>\n",
              "      <td>5.000000</td>\n",
              "      <td>28780.000000</td>\n",
              "      <td>3.000000</td>\n",
              "      <td>971.200000</td>\n",
              "      <td>3.000000</td>\n",
              "      <td>2.000000</td>\n",
              "      <td>10490.000000</td>\n",
              "      <td>41.00000</td>\n",
              "      <td>1863.0000</td>\n",
              "      <td>1.000000</td>\n",
              "    </tr>\n",
              "  </tbody>\n",
              "</table>\n",
              "</div>"
            ],
            "text/plain": [
              "            assists        boosts  ...   winPoints  winPlacePerc\n",
              "count  10000.000000  10000.000000  ...  10000.0000  10000.000000\n",
              "mean       0.234600      1.088500  ...    609.3440      0.469926\n",
              "std        0.575149      1.703279  ...    739.7924      0.304508\n",
              "min        0.000000      0.000000  ...      0.0000      0.000000\n",
              "25%        0.000000      0.000000  ...      0.0000      0.200000\n",
              "50%        0.000000      0.000000  ...      0.0000      0.458300\n",
              "75%        0.000000      2.000000  ...   1495.0000      0.735100\n",
              "max        7.000000     18.000000  ...   1863.0000      1.000000\n",
              "\n",
              "[8 rows x 25 columns]"
            ]
          },
          "metadata": {
            "tags": []
          },
          "execution_count": 5
        }
      ]
    },
    {
      "cell_type": "markdown",
      "metadata": {
        "id": "Y2ASROODt3Re"
      },
      "source": [
        "### **The average person kills how many players?**"
      ]
    },
    {
      "cell_type": "code",
      "metadata": {
        "id": "Jusa_xD3nSIZ",
        "outputId": "f8819e43-7854-4c57-cfe7-d3f3745373a2",
        "colab": {
          "base_uri": "https://localhost:8080/"
        }
      },
      "source": [
        "df.kills.mean()"
      ],
      "execution_count": 6,
      "outputs": [
        {
          "output_type": "execute_result",
          "data": {
            "text/plain": [
              "0.9134"
            ]
          },
          "metadata": {
            "tags": []
          },
          "execution_count": 6
        }
      ]
    },
    {
      "cell_type": "markdown",
      "metadata": {
        "id": "naYN1pnwt5ZY"
      },
      "source": [
        "### **99% of people have how many kills?**"
      ]
    },
    {
      "cell_type": "code",
      "metadata": {
        "id": "3bbyrjbcnb3t",
        "outputId": "81d9b65a-52e0-4d56-dc38-b1637aca82f1",
        "colab": {
          "base_uri": "https://localhost:8080/"
        }
      },
      "source": [
        "np.percentile(df.kills,99)"
      ],
      "execution_count": 7,
      "outputs": [
        {
          "output_type": "execute_result",
          "data": {
            "text/plain": [
              "7.0"
            ]
          },
          "metadata": {
            "tags": []
          },
          "execution_count": 7
        }
      ]
    },
    {
      "cell_type": "markdown",
      "metadata": {
        "id": "kKM3RjPct8Xu"
      },
      "source": [
        "### **The most kills ever recorded are how much?**"
      ]
    },
    {
      "cell_type": "code",
      "metadata": {
        "id": "ydlV3sh3nczP",
        "outputId": "f312af43-1add-4f0a-a49f-6827ee01dc66",
        "colab": {
          "base_uri": "https://localhost:8080/"
        }
      },
      "source": [
        "df.kills.max()"
      ],
      "execution_count": 8,
      "outputs": [
        {
          "output_type": "execute_result",
          "data": {
            "text/plain": [
              "35"
            ]
          },
          "metadata": {
            "tags": []
          },
          "execution_count": 8
        }
      ]
    },
    {
      "cell_type": "markdown",
      "metadata": {
        "id": "oHXN4CYft-Ci"
      },
      "source": [
        "### **Print all the columns of the dataframe.**"
      ]
    },
    {
      "cell_type": "code",
      "metadata": {
        "id": "ysil0zZ5ofex",
        "outputId": "6c101823-4978-4517-947d-f524d4010d79",
        "colab": {
          "base_uri": "https://localhost:8080/"
        }
      },
      "source": [
        "print(df.columns)"
      ],
      "execution_count": 9,
      "outputs": [
        {
          "output_type": "stream",
          "text": [
            "Index(['Id', 'groupId', 'matchId', 'assists', 'boosts', 'damageDealt', 'DBNOs',\n",
            "       'headshotKills', 'heals', 'killPlace', 'killPoints', 'kills',\n",
            "       'killStreaks', 'longestKill', 'matchDuration', 'matchType', 'maxPlace',\n",
            "       'numGroups', 'rankPoints', 'revives', 'rideDistance', 'roadKills',\n",
            "       'swimDistance', 'teamKills', 'vehicleDestroys', 'walkDistance',\n",
            "       'weaponsAcquired', 'winPoints', 'winPlacePerc'],\n",
            "      dtype='object')\n"
          ],
          "name": "stdout"
        }
      ]
    },
    {
      "cell_type": "markdown",
      "metadata": {
        "id": "08wi4zfAt_YK"
      },
      "source": [
        "### **Comment on distribution of the match's duration. Use seaborn**"
      ]
    },
    {
      "cell_type": "code",
      "metadata": {
        "id": "MJYVdvYzojTj",
        "outputId": "4e7f386d-e965-4ac9-cd84-9cfdc7b1d61d",
        "colab": {
          "base_uri": "https://localhost:8080/",
          "height": 369
        }
      },
      "source": [
        "sns.displot(df.matchDuration);"
      ],
      "execution_count": 10,
      "outputs": [
        {
          "output_type": "display_data",
          "data": {
            "image/png": "[encoded data removed]",
            "text/plain": [
              "<Figure size 360x360 with 1 Axes>"
            ]
          },
          "metadata": {
            "tags": [],
            "needs_background": "light"
          }
        }
      ]
    },
    {
      "cell_type": "markdown",
      "metadata": {
        "id": "KpgMn4YnuAgu"
      },
      "source": [
        "### **Comment on distribution of the walk distance. Use seaborn.**"
      ]
    },
    {
      "cell_type": "code",
      "metadata": {
        "id": "0dgDi27YondV",
        "outputId": "c0284d97-6086-4c62-9923-0f1e50d6fb17",
        "colab": {
          "base_uri": "https://localhost:8080/",
          "height": 369
        }
      },
      "source": [
        "sns.displot(df.walkDistance);"
      ],
      "execution_count": 11,
      "outputs": [
        {
          "output_type": "display_data",
          "data": {
            "image/png": "[encoded data removed]",
            "text/plain": [
              "<Figure size 360x360 with 1 Axes>"
            ]
          },
          "metadata": {
            "tags": [],
            "needs_background": "light"
          }
        }
      ]
    },
    {
      "cell_type": "markdown",
      "metadata": {
        "id": "hGX7f28YuBp0"
      },
      "source": [
        "### **Plot distribution of the match's duration vs walk distance one below the other.**"
      ]
    },
    {
      "cell_type": "code",
      "metadata": {
        "id": "E_t1_TJ5or0n",
        "outputId": "e1eb8ec5-c2ea-4f10-9088-3c71b00b29ed",
        "colab": {
          "base_uri": "https://localhost:8080/",
          "height": 372
        }
      },
      "source": [
        "fig,axs=plt.subplots(2,1)\n",
        "sns.distplot(df.matchDuration,ax=axs[0]);\n",
        "sns.distplot(df.walkDistance,ax=axs[1]);"
      ],
      "execution_count": 12,
      "outputs": [
        {
          "output_type": "stream",
          "text": [
            "/usr/local/lib/python3.6/dist-packages/seaborn/distributions.py:2551: FutureWarning: `distplot` is a deprecated function and will be removed in a future version. Please adapt your code to use either `displot` (a figure-level function with similar flexibility) or `histplot` (an axes-level function for histograms).\n",
            "  warnings.warn(msg, FutureWarning)\n",
            "/usr/local/lib/python3.6/dist-packages/seaborn/distributions.py:2551: FutureWarning: `distplot` is a deprecated function and will be removed in a future version. Please adapt your code to use either `displot` (a figure-level function with similar flexibility) or `histplot` (an axes-level function for histograms).\n",
            "  warnings.warn(msg, FutureWarning)\n"
          ],
          "name": "stderr"
        },
        {
          "output_type": "display_data",
          "data": {
            "image/png": "[encoded data removed]",
            "text/plain": [
              "<Figure size 432x288 with 2 Axes>"
            ]
          },
          "metadata": {
            "tags": [],
            "needs_background": "light"
          }
        }
      ]
    },
    {
      "cell_type": "markdown",
      "metadata": {
        "id": "F7-QTxVYuCv8"
      },
      "source": [
        "### **Plot distribution of the match's duration vs walk distance side by side.**"
      ]
    },
    {
      "cell_type": "code",
      "metadata": {
        "id": "UjmNa3FQowYB",
        "outputId": "bee88db5-a7cc-4637-d2cc-3c902f01f59c",
        "colab": {
          "base_uri": "https://localhost:8080/",
          "height": 372
        }
      },
      "source": [
        "fig,axs=plt.subplots(1,2)\n",
        "sns.distplot(df.matchDuration,ax=axs[0]);\n",
        "sns.distplot(df.walkDistance,ax=axs[1]);"
      ],
      "execution_count": 13,
      "outputs": [
        {
          "output_type": "stream",
          "text": [
            "/usr/local/lib/python3.6/dist-packages/seaborn/distributions.py:2551: FutureWarning: `distplot` is a deprecated function and will be removed in a future version. Please adapt your code to use either `displot` (a figure-level function with similar flexibility) or `histplot` (an axes-level function for histograms).\n",
            "  warnings.warn(msg, FutureWarning)\n",
            "/usr/local/lib/python3.6/dist-packages/seaborn/distributions.py:2551: FutureWarning: `distplot` is a deprecated function and will be removed in a future version. Please adapt your code to use either `displot` (a figure-level function with similar flexibility) or `histplot` (an axes-level function for histograms).\n",
            "  warnings.warn(msg, FutureWarning)\n"
          ],
          "name": "stderr"
        },
        {
          "output_type": "display_data",
          "data": {
            "image/png": "[encoded data removed]",
            "text/plain": [
              "<Figure size 432x288 with 2 Axes>"
            ]
          },
          "metadata": {
            "tags": [],
            "needs_background": "light"
          }
        }
      ]
    },
    {
      "cell_type": "markdown",
      "metadata": {
        "id": "r5P2cg7nuDs2"
      },
      "source": [
        "### **How many unique values are there in 'matchType' and what are their counts?**"
      ]
    },
    {
      "cell_type": "code",
      "metadata": {
        "id": "ZfqBLtK-o1I-",
        "outputId": "1ebdbda8-f906-426b-f96b-53e875e262cd",
        "colab": {
          "base_uri": "https://localhost:8080/"
        }
      },
      "source": [
        "print(\"Unique value in matchType is :\",pd.unique(df['matchType']))\n",
        "print()\n",
        "print(\"Count of unique value in matchType is :\",len(pd.unique(df['matchType'])))"
      ],
      "execution_count": 14,
      "outputs": [
        {
          "output_type": "stream",
          "text": [
            "Unique value in matchType is : ['squad-fpp' 'squad' 'duo-fpp' 'solo-fpp' 'duo' 'solo' 'crashfpp'\n",
            " 'flaretpp' 'normal-squad-fpp' 'normal-duo-fpp' 'flarefpp' 'normal-squad'\n",
            " 'normal-solo-fpp' 'crashtpp']\n",
            "\n",
            "Count of unique value in matchType is : 14\n"
          ],
          "name": "stdout"
        }
      ]
    },
    {
      "cell_type": "markdown",
      "metadata": {
        "id": "18M0tv0uuE0R"
      },
      "source": [
        "### **Plot a barplot of ‘matchType’ vs 'killPoints'. Write your inferences.**"
      ]
    },
    {
      "cell_type": "code",
      "metadata": {
        "id": "TI7eSDiwo4gr",
        "outputId": "652ab395-5492-4984-d797-a4a851198394",
        "colab": {
          "base_uri": "https://localhost:8080/",
          "height": 471
        }
      },
      "source": [
        "plt.style.use('fivethirtyeight')\n",
        "sns.barplot(df['matchType'],df['killPoints']);\n",
        "plt.xticks(rotation=80);"
      ],
      "execution_count": 15,
      "outputs": [
        {
          "output_type": "stream",
          "text": [
            "/usr/local/lib/python3.6/dist-packages/seaborn/_decorators.py:43: FutureWarning: Pass the following variables as keyword args: x, y. From version 0.12, the only valid positional argument will be `data`, and passing other arguments without an explicit keyword will result in an error or misinterpretation.\n",
            "  FutureWarning\n"
          ],
          "name": "stderr"
        },
        {
          "output_type": "display_data",
          "data": {
            "image/png": "[encoded data removed]",
            "text/plain": [
              "<Figure size 432x288 with 1 Axes>"
            ]
          },
          "metadata": {
            "tags": []
          }
        }
      ]
    },
    {
      "cell_type": "markdown",
      "metadata": {
        "id": "2OeBgLS6uF33"
      },
      "source": [
        "### **Plot a barplot of ‘matchType’ vs ‘weaponsAcquired’. Write your inferences.**"
      ]
    },
    {
      "cell_type": "code",
      "metadata": {
        "id": "-q7Swpd-r9Jv",
        "outputId": "fc646f10-1b28-4e8a-9684-63c57634d1a3",
        "colab": {
          "base_uri": "https://localhost:8080/",
          "height": 471
        }
      },
      "source": [
        "sns.barplot(df.matchType,df.weaponsAcquired);\n",
        "plt.xticks(rotation=80);"
      ],
      "execution_count": 16,
      "outputs": [
        {
          "output_type": "stream",
          "text": [
            "/usr/local/lib/python3.6/dist-packages/seaborn/_decorators.py:43: FutureWarning: Pass the following variables as keyword args: x, y. From version 0.12, the only valid positional argument will be `data`, and passing other arguments without an explicit keyword will result in an error or misinterpretation.\n",
            "  FutureWarning\n"
          ],
          "name": "stderr"
        },
        {
          "output_type": "display_data",
          "data": {
            "image/png": "[encoded data removed]",
            "text/plain": [
              "<Figure size 432x288 with 1 Axes>"
            ]
          },
          "metadata": {
            "tags": []
          }
        }
      ]
    },
    {
      "cell_type": "markdown",
      "metadata": {
        "id": "x7O2h8TPuHEO"
      },
      "source": [
        "### **Find the Categorical columns.**"
      ]
    },
    {
      "cell_type": "code",
      "metadata": {
        "id": "2ChpT_hkssYc",
        "outputId": "c1dba07f-ff0a-402a-c056-93aa0348ce40",
        "colab": {
          "base_uri": "https://localhost:8080/",
          "height": 424
        }
      },
      "source": [
        "df.select_dtypes(exclude=[\"number\",\"bool_\"])"
      ],
      "execution_count": 17,
      "outputs": [
        {
          "output_type": "execute_result",
          "data": {
            "text/html": [
              "<div>\n",
              "<style scoped>\n",
              "    .dataframe tbody tr th:only-of-type {\n",
              "        vertical-align: middle;\n",
              "    }\n",
              "\n",
              "    .dataframe tbody tr th {\n",
              "        vertical-align: top;\n",
              "    }\n",
              "\n",
              "    .dataframe thead th {\n",
              "        text-align: right;\n",
              "    }\n",
              "</style>\n",
              "<table border=\"1\" class=\"dataframe\">\n",
              "  <thead>\n",
              "    <tr style=\"text-align: right;\">\n",
              "      <th></th>\n",
              "      <th>Id</th>\n",
              "      <th>groupId</th>\n",
              "      <th>matchId</th>\n",
              "      <th>matchType</th>\n",
              "    </tr>\n",
              "  </thead>\n",
              "  <tbody>\n",
              "    <tr>\n",
              "      <th>0</th>\n",
              "      <td>2f262dd9795e60</td>\n",
              "      <td>78437bcd91d40e</td>\n",
              "      <td>d5db3a49eb2955</td>\n",
              "      <td>squad-fpp</td>\n",
              "    </tr>\n",
              "    <tr>\n",
              "      <th>1</th>\n",
              "      <td>a32847cf5bf34b</td>\n",
              "      <td>85b7ce5a12e10b</td>\n",
              "      <td>65223f05c7fdb4</td>\n",
              "      <td>squad-fpp</td>\n",
              "    </tr>\n",
              "    <tr>\n",
              "      <th>2</th>\n",
              "      <td>1b1900a9990396</td>\n",
              "      <td>edf80d6523380a</td>\n",
              "      <td>1cadec4534f30a</td>\n",
              "      <td>squad-fpp</td>\n",
              "    </tr>\n",
              "    <tr>\n",
              "      <th>3</th>\n",
              "      <td>f589dd03b60bf2</td>\n",
              "      <td>804ab5e5585558</td>\n",
              "      <td>c4a5676dc91604</td>\n",
              "      <td>squad</td>\n",
              "    </tr>\n",
              "    <tr>\n",
              "      <th>4</th>\n",
              "      <td>c23c4cc5b78b35</td>\n",
              "      <td>b3e2cd169ed920</td>\n",
              "      <td>cd595700a01bfa</td>\n",
              "      <td>squad-fpp</td>\n",
              "    </tr>\n",
              "    <tr>\n",
              "      <th>...</th>\n",
              "      <td>...</td>\n",
              "      <td>...</td>\n",
              "      <td>...</td>\n",
              "      <td>...</td>\n",
              "    </tr>\n",
              "    <tr>\n",
              "      <th>9995</th>\n",
              "      <td>ef4f474acd8e85</td>\n",
              "      <td>2eca2a8391f75d</td>\n",
              "      <td>492ecdfae90b46</td>\n",
              "      <td>squad-fpp</td>\n",
              "    </tr>\n",
              "    <tr>\n",
              "      <th>9996</th>\n",
              "      <td>cf0bf82fb4d80e</td>\n",
              "      <td>2eaf2765f93adb</td>\n",
              "      <td>14bffd71e96320</td>\n",
              "      <td>duo-fpp</td>\n",
              "    </tr>\n",
              "    <tr>\n",
              "      <th>9997</th>\n",
              "      <td>a0a31a0b1dcbe1</td>\n",
              "      <td>8d50c64ccc5071</td>\n",
              "      <td>147e4bbb62e3bb</td>\n",
              "      <td>duo-fpp</td>\n",
              "    </tr>\n",
              "    <tr>\n",
              "      <th>9998</th>\n",
              "      <td>f6874657399d69</td>\n",
              "      <td>d31843d7e62ccb</td>\n",
              "      <td>662567dcf280f5</td>\n",
              "      <td>duo-fpp</td>\n",
              "    </tr>\n",
              "    <tr>\n",
              "      <th>9999</th>\n",
              "      <td>90359b0b8f8b0d</td>\n",
              "      <td>61d5b1bb8da43f</td>\n",
              "      <td>258bfa48d88014</td>\n",
              "      <td>solo</td>\n",
              "    </tr>\n",
              "  </tbody>\n",
              "</table>\n",
              "<p>10000 rows × 4 columns</p>\n",
              "</div>"
            ],
            "text/plain": [
              "                  Id         groupId         matchId  matchType\n",
              "0     2f262dd9795e60  78437bcd91d40e  d5db3a49eb2955  squad-fpp\n",
              "1     a32847cf5bf34b  85b7ce5a12e10b  65223f05c7fdb4  squad-fpp\n",
              "2     1b1900a9990396  edf80d6523380a  1cadec4534f30a  squad-fpp\n",
              "3     f589dd03b60bf2  804ab5e5585558  c4a5676dc91604      squad\n",
              "4     c23c4cc5b78b35  b3e2cd169ed920  cd595700a01bfa  squad-fpp\n",
              "...              ...             ...             ...        ...\n",
              "9995  ef4f474acd8e85  2eca2a8391f75d  492ecdfae90b46  squad-fpp\n",
              "9996  cf0bf82fb4d80e  2eaf2765f93adb  14bffd71e96320    duo-fpp\n",
              "9997  a0a31a0b1dcbe1  8d50c64ccc5071  147e4bbb62e3bb    duo-fpp\n",
              "9998  f6874657399d69  d31843d7e62ccb  662567dcf280f5    duo-fpp\n",
              "9999  90359b0b8f8b0d  61d5b1bb8da43f  258bfa48d88014       solo\n",
              "\n",
              "[10000 rows x 4 columns]"
            ]
          },
          "metadata": {
            "tags": []
          },
          "execution_count": 17
        }
      ]
    },
    {
      "cell_type": "markdown",
      "metadata": {
        "id": "NIxZ7aYnuIIr"
      },
      "source": [
        "### **Plot a boxplot of ‘matchType’ vs ‘winPlacePerc’. Write your inferences.**"
      ]
    },
    {
      "cell_type": "code",
      "metadata": {
        "id": "BkHrT4cbsyvn",
        "outputId": "7170d1f9-d5b9-43d5-b292-a1b0a5916603",
        "colab": {
          "base_uri": "https://localhost:8080/",
          "height": 451
        }
      },
      "source": [
        "sns.boxplot(x='matchType', y='winPlacePerc', data=df)\n",
        "plt.xticks(rotation=80)"
      ],
      "execution_count": 18,
      "outputs": [
        {
          "output_type": "execute_result",
          "data": {
            "text/plain": [
              "(array([ 0,  1,  2,  3,  4,  5,  6,  7,  8,  9, 10, 11, 12, 13]),\n",
              " <a list of 14 Text major ticklabel objects>)"
            ]
          },
          "metadata": {
            "tags": []
          },
          "execution_count": 18
        },
        {
          "output_type": "display_data",
          "data": {
            "image/png": "[encoded data removed]",
            "text/plain": [
              "<Figure size 432x288 with 1 Axes>"
            ]
          },
          "metadata": {
            "tags": []
          }
        }
      ]
    },
    {
      "cell_type": "markdown",
      "metadata": {
        "id": "Vz7eK1Q2uI9y"
      },
      "source": [
        "### **Plot a boxplot of ‘matchType’ vs ‘matchDuration’. Write your inferences.**"
      ]
    },
    {
      "cell_type": "code",
      "metadata": {
        "id": "8IT3xk2Cs2qq",
        "outputId": "65abcc07-9b93-427a-dd09-2c9e0abab965",
        "colab": {
          "base_uri": "https://localhost:8080/",
          "height": 451
        }
      },
      "source": [
        "sns.boxplot(x='matchType', y='matchDuration', data=df)\n",
        "plt.xticks(rotation=80)"
      ],
      "execution_count": 19,
      "outputs": [
        {
          "output_type": "execute_result",
          "data": {
            "text/plain": [
              "(array([ 0,  1,  2,  3,  4,  5,  6,  7,  8,  9, 10, 11, 12, 13]),\n",
              " <a list of 14 Text major ticklabel objects>)"
            ]
          },
          "metadata": {
            "tags": []
          },
          "execution_count": 19
        },
        {
          "output_type": "display_data",
          "data": {
            "image/png": "[encoded data removed]",
            "text/plain": [
              "<Figure size 432x288 with 1 Axes>"
            ]
          },
          "metadata": {
            "tags": []
          }
        }
      ]
    },
    {
      "cell_type": "markdown",
      "metadata": {
        "id": "8KwnLf7RuXN1"
      },
      "source": [
        "### **Change the orientation of the above plot to horizontal.**"
      ]
    },
    {
      "cell_type": "code",
      "metadata": {
        "id": "jlpvz1-Ds7QP",
        "outputId": "40dadbec-c7b0-4733-817b-2f5ae79a23dd",
        "colab": {
          "base_uri": "https://localhost:8080/",
          "height": 383
        }
      },
      "source": [
        "sns.boxplot(df.matchDuration,df.matchType);\n",
        "plt.xticks(rotation=60);"
      ],
      "execution_count": 20,
      "outputs": [
        {
          "output_type": "stream",
          "text": [
            "/usr/local/lib/python3.6/dist-packages/seaborn/_decorators.py:43: FutureWarning: Pass the following variables as keyword args: x, y. From version 0.12, the only valid positional argument will be `data`, and passing other arguments without an explicit keyword will result in an error or misinterpretation.\n",
            "  FutureWarning\n"
          ],
          "name": "stderr"
        },
        {
          "output_type": "display_data",
          "data": {
            "image/png": "[encoded data removed]",
            "text/plain": [
              "<Figure size 432x288 with 1 Axes>"
            ]
          },
          "metadata": {
            "tags": []
          }
        }
      ]
    },
    {
      "cell_type": "code",
      "metadata": {
        "id": "KUPcsI9Qs_yI",
        "outputId": "90c3865c-5fff-4fd8-a244-dfae766295e7",
        "colab": {
          "base_uri": "https://localhost:8080/"
        }
      },
      "source": [
        "df['KILL']=(df.headshotKills+df.roadKills+df.teamKills)\n",
        "kd=pd.DataFrame(df[['headshotKills','roadKills','teamKills','KILL']])\n",
        "print(kd)"
      ],
      "execution_count": 21,
      "outputs": [
        {
          "output_type": "stream",
          "text": [
            "      headshotKills  roadKills  teamKills  KILL\n",
            "0                 0          0          0     0\n",
            "1                 1          0          0     1\n",
            "2                 1          0          0     1\n",
            "3                 0          0          0     0\n",
            "4                 0          0          0     0\n",
            "...             ...        ...        ...   ...\n",
            "9995              0          0          0     0\n",
            "9996              0          0          0     0\n",
            "9997              0          0          0     0\n",
            "9998              0          0          0     0\n",
            "9999              0          0          0     0\n",
            "\n",
            "[10000 rows x 4 columns]\n"
          ],
          "name": "stdout"
        }
      ]
    },
    {
      "cell_type": "code",
      "metadata": {
        "id": "BQjs94UhtFyn"
      },
      "source": [
        ""
      ],
      "execution_count": 21,
      "outputs": []
    },
    {
      "cell_type": "code",
      "metadata": {
        "id": "mycjGXbdtbjA"
      },
      "source": [
        ""
      ],
      "execution_count": 21,
      "outputs": []
    },
    {
      "cell_type": "code",
      "metadata": {
        "id": "M-4sqvHBtRqf"
      },
      "source": [
        ""
      ],
      "execution_count": 21,
      "outputs": []
    }
  ]
}