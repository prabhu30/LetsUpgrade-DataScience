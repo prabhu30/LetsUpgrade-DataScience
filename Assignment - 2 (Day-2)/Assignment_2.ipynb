{
  "nbformat": 4,
  "nbformat_minor": 0,
  "metadata": {
    "colab": {
      "name": "Assignment_2.ipynb",
      "provenance": []
    },
    "kernelspec": {
      "name": "python3",
      "display_name": "Python 3"
    }
  },
  "cells": [
    {
      "cell_type": "markdown",
      "metadata": {
        "id": "TXS46OV1qjCu"
      },
      "source": [
        "# **Assignment - 2**"
      ]
    },
    {
      "cell_type": "markdown",
      "metadata": {
        "id": "nXG6Mv-MrLhS"
      },
      "source": [
        "# **Question - 1**"
      ]
    },
    {
      "cell_type": "code",
      "metadata": {
        "id": "z5Ie5-5dqLUB"
      },
      "source": [
        "el = []"
      ],
      "execution_count": 38,
      "outputs": []
    },
    {
      "cell_type": "code",
      "metadata": {
        "id": "f94e8a9HrSOF",
        "outputId": "6909ea25-3285-416d-c4d0-74566d296f84",
        "colab": {
          "base_uri": "https://localhost:8080/"
        }
      },
      "source": [
        "for i in range(0,10):\n",
        "    a = int(input())\n",
        "    if a%2==0:\n",
        "        el.append(a)"
      ],
      "execution_count": 39,
      "outputs": [
        {
          "output_type": "stream",
          "text": [
            "10\n",
            "20\n",
            "30\n",
            "40\n",
            "50\n",
            "60\n",
            "11\n",
            "21\n",
            "31\n",
            "41\n"
          ],
          "name": "stdout"
        }
      ]
    },
    {
      "cell_type": "code",
      "metadata": {
        "id": "4xJRTlMfr4o6",
        "outputId": "67ca8bbc-ed2e-4a48-e1d6-c0f826ece39b",
        "colab": {
          "base_uri": "https://localhost:8080/"
        }
      },
      "source": [
        "print(el)"
      ],
      "execution_count": 40,
      "outputs": [
        {
          "output_type": "stream",
          "text": [
            "[10, 20, 30, 40, 50, 60]\n"
          ],
          "name": "stdout"
        }
      ]
    },
    {
      "cell_type": "code",
      "metadata": {
        "id": "y6SkTI9csBg3"
      },
      "source": [
        ""
      ],
      "execution_count": 40,
      "outputs": []
    },
    {
      "cell_type": "code",
      "metadata": {
        "id": "6irbKW3VsofM"
      },
      "source": [
        ""
      ],
      "execution_count": 40,
      "outputs": []
    },
    {
      "cell_type": "code",
      "metadata": {
        "id": "A1AMRRtaso5h"
      },
      "source": [
        ""
      ],
      "execution_count": 40,
      "outputs": []
    },
    {
      "cell_type": "markdown",
      "metadata": {
        "id": "-Qrri2gSsput"
      },
      "source": [
        "# **Question - 2**"
      ]
    },
    {
      "cell_type": "markdown",
      "metadata": {
        "id": "XQkLHvnLvZUX"
      },
      "source": [
        "###Syntax of List Comprehension :\n",
        "<code>[expression for item in list]</code>"
      ]
    },
    {
      "cell_type": "markdown",
      "metadata": {
        "id": "OPt-WFSMv84D"
      },
      "source": [
        "* Basic example of list comprehension"
      ]
    },
    {
      "cell_type": "code",
      "metadata": {
        "id": "DRwKz2Wnso8d",
        "outputId": "5defe997-d2ac-43b2-b4e5-ab4fa32672be",
        "colab": {
          "base_uri": "https://localhost:8080/"
        }
      },
      "source": [
        "h_letters = [ letter for letter in 'human' ]\n",
        "print( h_letters)"
      ],
      "execution_count": 41,
      "outputs": [
        {
          "output_type": "stream",
          "text": [
            "['h', 'u', 'm', 'a', 'n']\n"
          ],
          "name": "stdout"
        }
      ]
    },
    {
      "cell_type": "markdown",
      "metadata": {
        "id": "5G-QjtchwA8y"
      },
      "source": [
        "* if conditional in list comprehension"
      ]
    },
    {
      "cell_type": "code",
      "metadata": {
        "id": "1X9ECQxSvr0N",
        "outputId": "798d8a54-e992-4b53-a225-c28e6ad0581a",
        "colab": {
          "base_uri": "https://localhost:8080/"
        }
      },
      "source": [
        "number_list = [ x for x in range(20) if x % 2 == 0]\n",
        "print(number_list)"
      ],
      "execution_count": 42,
      "outputs": [
        {
          "output_type": "stream",
          "text": [
            "[0, 2, 4, 6, 8, 10, 12, 14, 16, 18]\n"
          ],
          "name": "stdout"
        }
      ]
    },
    {
      "cell_type": "markdown",
      "metadata": {
        "id": "j2LGKxyawIm6"
      },
      "source": [
        "* Nested if conditional in list comprehension"
      ]
    },
    {
      "cell_type": "code",
      "metadata": {
        "id": "ewyz1thJvvJI",
        "outputId": "d2248c40-c2e4-47de-f7bf-ee093fc4fc31",
        "colab": {
          "base_uri": "https://localhost:8080/"
        }
      },
      "source": [
        "num_list = [y for y in range(100) if y % 2 == 0 if y % 5 == 0]\n",
        "print(num_list)"
      ],
      "execution_count": 43,
      "outputs": [
        {
          "output_type": "stream",
          "text": [
            "[0, 10, 20, 30, 40, 50, 60, 70, 80, 90]\n"
          ],
          "name": "stdout"
        }
      ]
    },
    {
      "cell_type": "markdown",
      "metadata": {
        "id": "XMHemIjwwO1k"
      },
      "source": [
        "* if-else conditional in list comprehension"
      ]
    },
    {
      "cell_type": "code",
      "metadata": {
        "id": "34LwKFSMvyFu",
        "outputId": "fd444c9c-0f61-42c2-9a3d-4208f423a4f4",
        "colab": {
          "base_uri": "https://localhost:8080/"
        }
      },
      "source": [
        "obj = [\"Even\" if i%2==0 else \"Odd\" for i in range(10)]\n",
        "print(obj)"
      ],
      "execution_count": 44,
      "outputs": [
        {
          "output_type": "stream",
          "text": [
            "['Even', 'Odd', 'Even', 'Odd', 'Even', 'Odd', 'Even', 'Odd', 'Even', 'Odd']\n"
          ],
          "name": "stdout"
        }
      ]
    },
    {
      "cell_type": "markdown",
      "metadata": {
        "id": "0PE4RzZCwTBj"
      },
      "source": [
        "* Loops in list comprehension"
      ]
    },
    {
      "cell_type": "code",
      "metadata": {
        "id": "-RShb8KPv05s",
        "outputId": "a7988a23-0d20-45d6-ded2-00e1ff6f086c",
        "colab": {
          "base_uri": "https://localhost:8080/"
        }
      },
      "source": [
        "transposed = []\n",
        "matrix = [[1, 2, 3, 4], [4, 5, 6, 8]]\n",
        "\n",
        "for i in range(len(matrix[0])):\n",
        "    transposed_row = []\n",
        "\n",
        "    for row in matrix:\n",
        "        transposed_row.append(row[i])\n",
        "    transposed.append(transposed_row)\n",
        "\n",
        "print(transposed)"
      ],
      "execution_count": 45,
      "outputs": [
        {
          "output_type": "stream",
          "text": [
            "[[1, 4], [2, 5], [3, 6], [4, 8]]\n"
          ],
          "name": "stdout"
        }
      ]
    },
    {
      "cell_type": "markdown",
      "metadata": {
        "id": "HnCXz6nowdwz"
      },
      "source": [
        "* Nested loops in list comprehension"
      ]
    },
    {
      "cell_type": "code",
      "metadata": {
        "id": "RnJfo9I1v3c-",
        "outputId": "4e52ed31-f6a9-408d-db11-a49879d6d8a3",
        "colab": {
          "base_uri": "https://localhost:8080/"
        }
      },
      "source": [
        "matrix = [[1, 2], [3,4], [5,6], [7,8]]\n",
        "transpose = [[row[i] for row in matrix] for i in range(2)]\n",
        "print (transpose)"
      ],
      "execution_count": 46,
      "outputs": [
        {
          "output_type": "stream",
          "text": [
            "[[1, 3, 5, 7], [2, 4, 6, 8]]\n"
          ],
          "name": "stdout"
        }
      ]
    },
    {
      "cell_type": "code",
      "metadata": {
        "id": "2ZzIvFOuv58L"
      },
      "source": [
        ""
      ],
      "execution_count": 46,
      "outputs": []
    },
    {
      "cell_type": "code",
      "metadata": {
        "id": "lGtzHFyMwiGy"
      },
      "source": [
        ""
      ],
      "execution_count": 46,
      "outputs": []
    },
    {
      "cell_type": "code",
      "metadata": {
        "id": "CEmQo4E6wiKx"
      },
      "source": [
        ""
      ],
      "execution_count": 46,
      "outputs": []
    },
    {
      "cell_type": "markdown",
      "metadata": {
        "id": "asP7JtahxEPx"
      },
      "source": [
        "# **Question - 3**"
      ]
    },
    {
      "cell_type": "code",
      "metadata": {
        "id": "MXyjBjnTwidf"
      },
      "source": [
        "dict = {}"
      ],
      "execution_count": 47,
      "outputs": []
    },
    {
      "cell_type": "code",
      "metadata": {
        "id": "gFgQF3TAwq5d",
        "outputId": "6004adee-5515-4533-a331-52c273663954",
        "colab": {
          "base_uri": "https://localhost:8080/"
        }
      },
      "source": [
        "n = int(input())"
      ],
      "execution_count": 48,
      "outputs": [
        {
          "output_type": "stream",
          "text": [
            "8\n"
          ],
          "name": "stdout"
        }
      ]
    },
    {
      "cell_type": "code",
      "metadata": {
        "id": "6dwxVNLvwvRS"
      },
      "source": [
        "for i in range(1,n+1):\n",
        "  dict[i]=i**2"
      ],
      "execution_count": 49,
      "outputs": []
    },
    {
      "cell_type": "code",
      "metadata": {
        "id": "R6MRQhkkw28y",
        "outputId": "d7c53447-dbe0-4024-9f4b-8955a0727ca5",
        "colab": {
          "base_uri": "https://localhost:8080/"
        }
      },
      "source": [
        "dict"
      ],
      "execution_count": 50,
      "outputs": [
        {
          "output_type": "execute_result",
          "data": {
            "text/plain": [
              "{1: 1, 2: 4, 3: 9, 4: 16, 5: 25, 6: 36, 7: 49, 8: 64}"
            ]
          },
          "metadata": {
            "tags": []
          },
          "execution_count": 50
        }
      ]
    },
    {
      "cell_type": "code",
      "metadata": {
        "id": "lUi4WIgPw8Zf"
      },
      "source": [
        ""
      ],
      "execution_count": 50,
      "outputs": []
    },
    {
      "cell_type": "code",
      "metadata": {
        "id": "sa7MZULaxIp6"
      },
      "source": [
        ""
      ],
      "execution_count": 50,
      "outputs": []
    },
    {
      "cell_type": "code",
      "metadata": {
        "id": "7N85DadXxIvn"
      },
      "source": [
        ""
      ],
      "execution_count": 50,
      "outputs": []
    },
    {
      "cell_type": "markdown",
      "metadata": {
        "id": "Jo5t3BBB0jpk"
      },
      "source": [
        "# **Question - 4**"
      ]
    },
    {
      "cell_type": "code",
      "metadata": {
        "id": "8vwFZuTX0BUO"
      },
      "source": [
        "import math"
      ],
      "execution_count": 51,
      "outputs": []
    },
    {
      "cell_type": "code",
      "metadata": {
        "id": "nYnIjYSkxIs7",
        "outputId": "02d8827d-cbf3-4a06-f503-6abfab4f0636",
        "colab": {
          "base_uri": "https://localhost:8080/"
        }
      },
      "source": [
        "n = int(input())"
      ],
      "execution_count": 52,
      "outputs": [
        {
          "output_type": "stream",
          "text": [
            "4\n"
          ],
          "name": "stdout"
        }
      ]
    },
    {
      "cell_type": "code",
      "metadata": {
        "id": "CBNIXlHPxpaT"
      },
      "source": [
        "l=[]"
      ],
      "execution_count": 53,
      "outputs": []
    },
    {
      "cell_type": "code",
      "metadata": {
        "id": "Hyd4Xywpztjo"
      },
      "source": [
        "up = down = left = right = 0"
      ],
      "execution_count": 54,
      "outputs": []
    },
    {
      "cell_type": "code",
      "metadata": {
        "id": "YdgmnXQIxQOc",
        "outputId": "e22da698-daaf-49bb-f241-7f216fcd28af",
        "colab": {
          "base_uri": "https://localhost:8080/"
        }
      },
      "source": [
        "for i in range(n):\n",
        "  inp = input()\n",
        "  el = list(inp.split())\n",
        "  l.append(el)\n",
        "  if el[0]==\"UP\":\n",
        "    up = int(el[1])\n",
        "  elif el[0]==\"DOWN\":\n",
        "    down = int(el[1])\n",
        "  elif el[0]==\"LEFT\":\n",
        "    left = int(el[1])\n",
        "  elif el[0]==\"RIGHT\":\n",
        "    right = int(el[1])\n",
        "  else:\n",
        "    pass"
      ],
      "execution_count": 55,
      "outputs": [
        {
          "output_type": "stream",
          "text": [
            "UP 5\n",
            "DOWN 3\n",
            "LEFT 3\n",
            "RIGHT 2\n"
          ],
          "name": "stdout"
        }
      ]
    },
    {
      "cell_type": "code",
      "metadata": {
        "id": "3PyRnj7ty82E",
        "outputId": "87c787b9-39c9-40a2-ae84-26f0f2502913",
        "colab": {
          "base_uri": "https://localhost:8080/"
        }
      },
      "source": [
        "print(round(math.sqrt((up-down)**2+(right-left)**2)))"
      ],
      "execution_count": 56,
      "outputs": [
        {
          "output_type": "stream",
          "text": [
            "2\n"
          ],
          "name": "stdout"
        }
      ]
    },
    {
      "cell_type": "code",
      "metadata": {
        "id": "qo9UFYVy0MtP"
      },
      "source": [
        ""
      ],
      "execution_count": 56,
      "outputs": []
    }
  ]
}